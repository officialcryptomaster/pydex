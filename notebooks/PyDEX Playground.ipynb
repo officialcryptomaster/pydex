{
 "cells": [
  {
   "cell_type": "code",
   "execution_count": null,
   "metadata": {},
   "outputs": [],
   "source": [
    "import os\n",
    "import json\n",
    "\n",
    "from zero_ex.contract_addresses import NETWORK_TO_ADDRESSES, NetworkId\n",
    "from pydex_client.client import PyDexClient\n",
    "\n",
    "NETWORK_ID = NetworkId(int(os.environ.get(\"NETWORK_ID\")))\n",
    "WEB3_RPC_URL = os.environ.get(\"WEB3_RPC_URL\")\n",
    "PRIVATE_KEY = os.environ.get(\"PRIVATE_KEY\")\n",
    "# NETWORK_ID = NetworkId.GANACHE\n",
    "# WEB3_RPC_URL = \"http://127.0.0.1:8545\"\n",
    "# PRIVATE_KEY = \"f2f48ee19680706196e2e339e5da3491186e0c4c5030670656b0e0164837257d\"\n",
    "\n",
    "pydex_client = PyDexClient(\n",
    "    network_id=NETWORK_ID.value,\n",
    "    web3_rpc_url=WEB3_RPC_URL,\n",
    "    private_key=PRIVATE_KEY,\n",
    "    pydex_api_url=\"http://localhost:3000\"\n",
    ")\n",
    "\n",
    "MY_ADDRESS = pydex_client.account_address\n",
    "\n",
    "print(\n",
    "    \"NETWORK:\",  NETWORK_ID,\n",
    "    \"\\nRPC_URL\", WEB3_RPC_URL,\n",
    "    \"\\nADDRESS IN USE:\", MY_ADDRESS)"
   ]
  },
  {
   "cell_type": "code",
   "execution_count": null,
   "metadata": {},
   "outputs": [],
   "source": [
    "ADDRESS_BOOK = {\n",
    "    NetworkId.RINKEBY: {\n",
    "      'OptionsRegistry': pydex_client.get_checksum_address('0xa5b14070af70f56fc0b3216045e53d3224bb0172'),\n",
    "    },\n",
    "  };\n",
    "\n",
    "option_registry_interface = json.load(open(\"../artifacts/OptionsRegistry.json\"))\n",
    "\n",
    "option_registry = pydex_client.web3_eth.contract(\n",
    "    address=ADDRESS_BOOK[NETWORK_ID][\"OptionsRegistry\"],\n",
    "    abi=option_registry_interface[\"abi\"],\n",
    ")\n",
    "markets = option_registry.functions.getMarkets().call()\n",
    "for market_address in markets:\n",
    "    market_info = option_registry.functions.getMarket(market_address).call()\n",
    "    print(\n",
    "        \"id: {5} | topic:{0}\\n\\tstrike: {1}\\n\\texpiry: {2}\\n\\tlong_token: '{3}'\\n\\tshort_token: '{4}'\\n\".format(\n",
    "        *market_info))"
   ]
  },
  {
   "cell_type": "code",
   "execution_count": null,
   "metadata": {},
   "outputs": [],
   "source": [
    "# from zero_ex.order_utils import asset_data_utils as adu\n",
    "# VETH_TOKEN = \"0xc4abc01578139e2105d9c9eba0b0aa6f6a60d082\"\n",
    "# VETH_ASSET_DATA = adu.encode_erc20_asset_data(VETH_TOKEN)\n",
    "# LONG_TOKEN = \"0x358b48569a4a4ef6310c1f1d8e50be9d068a50c6\"\n",
    "# LONG_ASSET_DATA = adu.encode_erc20_asset_data(LONG_TOKEN)\n",
    "# SHORT_TOKEN = \"0x4a1f5f67c1cf90f176496aa548382c78921ae9f1\"\n",
    "# SHORT_ASSET_DATA = adu.encode_erc20_asset_data(SHORT_TOKEN)\n",
    "# print(VETH_TOKEN, VETH_ASSET_DATA, LONG_TOKEN, LONG_ASSET_DATA, SHORT_TOKEN, SHORT_ASSET_DATA)\n",
    "\n",
    "VETH_TOKEN = \"0xc4abc01578139e2105d9c9eba0b0aa6f6a60d082\"\n",
    "VETH_ASSET_DATA = \"0xf47261b0000000000000000000000000c4abc01578139e2105d9c9eba0b0aa6f6a60d082\" \n",
    "LONG_TOKEN = \"0x358b48569a4a4ef6310c1f1d8e50be9d068a50c6\"\n",
    "LONG_ASSET_DATA = \"0xf47261b0000000000000000000000000358b48569a4a4ef6310c1f1d8e50be9d068a50c6\" \n",
    "SHORT_TOKEN = \"0x4a1f5f67c1cf90f176496aa548382c78921ae9f1\"\n",
    "SHORT_ASSET_DATA = \"0xf47261b00000000000000000000000004a1f5f67c1cf90f176496aa548382c78921ae9f1\"\n",
    "\n",
    "full_asset_set_data = {\n",
    "    \"LONG\": LONG_ASSET_DATA,\n",
    "    \"SHORT\": SHORT_ASSET_DATA,\n",
    "}"
   ]
  },
  {
   "cell_type": "code",
   "execution_count": null,
   "metadata": {},
   "outputs": [],
   "source": [
    "import requests\n",
    "import time\n",
    "\n",
    "from decimal import Decimal\n",
    "from zero_ex.json_schemas import assert_valid\n",
    "from pydex_app.db_models import SignedOrder\n",
    "from pydex_app.config import NULL_ADDRESS\n",
    "from utils.web3utils import to_base_unit_amount\n",
    "\n",
    "\n",
    "def make_signed_order(\n",
    "    asset,\n",
    "    qty,\n",
    "    price,\n",
    "    side,\n",
    "    maker_address=MY_ADDRESS,\n",
    "    expiration_time_secs=600,\n",
    "    maker_fee=\"0\",\n",
    "    taker_fee=\"0\",\n",
    "    salt=None,\n",
    "    taker_address=NULL_ADDRESS,\n",
    "    fee_recipient_address=NULL_ADDRESS,\n",
    "    sender_address=NULL_ADDRESS,\n",
    "    exchange_address=\"0xbce0b5f6eb618c565c3e5f5cd69652bbc279f44e\", # Rinkeby Exchange Address\n",
    "    zrx_client=pydex_client,\n",
    "\n",
    "):\n",
    "    \"\"\" Convenience function for making valid orders to buy or sell\n",
    "    SHORT or LONG assets against VETH.\n",
    "    \n",
    "    Keyword Arguments:\n",
    "    asset -- str from {'LONG', 'SHORT'} to index into `full_asset_set_data`\n",
    "    qty -- how much of the ticker asset you want to buy against VETH\n",
    "    price -- Always in units of LONG or SHORT asset per VETH\n",
    "    side -- str from {'BUY', 'SELL'}\n",
    "    maker_address -- your address (defaults to MY_ADDRESS)\n",
    "    \"\"\"\n",
    "    OPTION_ASSET_DATA = full_asset_set_data[asset]\n",
    "    if side == 'BUY':\n",
    "        maker_asset_data = VETH_ASSET_DATA\n",
    "        taker_asset_data = OPTION_ASSET_DATA\n",
    "        maker_amount = to_base_unit_amount(qty * price)\n",
    "        taker_amount = to_base_unit_amount(qty)\n",
    "    elif side == 'SELL':\n",
    "        maker_asset_data = OPTION_ASSET_DATA\n",
    "        taker_asset_data = VETH_ASSET_DATA\n",
    "        maker_amount = to_base_unit_amount(qty)\n",
    "        taker_amount = to_base_unit_amount(qty * price)\n",
    "    else:\n",
    "        raise Exception(\"side must be one of {'BUY', 'SELL'}\")\n",
    "    \n",
    "    if not salt:\n",
    "        # TODO(CM): Is it reasonable to pick the salt like this?\n",
    "        import random\n",
    "        salt = \"{:.0f}\".format(Decimal(random.uniform(0, 9223372036854775807)))\n",
    "    if not isinstance(maker_fee, str):\n",
    "        maker_fee = to_base_unit_amount(maker_fee)\n",
    "    if not isinstance(taker_fee, str):\n",
    "        taker_fee = to_base_unit_amount(taker_fee)\n",
    "    expiration_time_secs = int(time.time() + expiration_time_secs)\n",
    "    \n",
    "    order = SignedOrder()\n",
    "    order.maker_address = maker_address\n",
    "    order.taker_address = taker_address\n",
    "    order.fee_recipient_address = fee_recipient_address\n",
    "    order.sender_address = sender_address\n",
    "    order.maker_asset_amount = maker_amount\n",
    "    order.taker_asset_amount = taker_amount\n",
    "    order.maker_fee = \"{:.0f}\".format(Decimal(maker_fee))\n",
    "    order.taker_fee = \"{:.0f}\".format(Decimal(taker_fee))\n",
    "    order.expiration_time_secs = expiration_time_secs\n",
    "    order.salt = salt\n",
    "    order.maker_asset_data = maker_asset_data\n",
    "    order.taker_asset_data = taker_asset_data\n",
    "    order.exchange_address = exchange_address\n",
    "    # sign the order with the client\n",
    "    order.signature = zrx_client.sign_hash_0x_compat(order.update().hash)\n",
    "    assert_valid(order.to_json(), \"/signedOrderSchema\")\n",
    "    return order\n"
   ]
  },
  {
   "cell_type": "code",
   "execution_count": null,
   "metadata": {},
   "outputs": [],
   "source": [
    "pydex_client.private_key"
   ]
  },
  {
   "cell_type": "code",
   "execution_count": null,
   "metadata": {},
   "outputs": [],
   "source": [
    "order = make_signed_order(\n",
    "    asset=\"LONG\",\n",
    "    qty=0.0001,\n",
    "    price=0.5,\n",
    "    side=\"BUY\",\n",
    ")\n",
    "order.to_json(include_hash=True, include_signature=True)"
   ]
  },
  {
   "cell_type": "code",
   "execution_count": null,
   "metadata": {},
   "outputs": [],
   "source": [
    "from pydex_app.db_models import SignedOrder\n",
    "from pprint import pprint\n",
    "\n",
    "orderbook = pydex_client.get_orderbook(\n",
    "    base_asset_data=VETH_ASSET_DATA,\n",
    "    quote_asset_data=LONG_ASSET_DATA,\n",
    "#     full_set_asset_data=full_asset_set_data\n",
    ")\n",
    "# pprint(orderbook)\n",
    "\n",
    "def print_order_book(orderbook):\n",
    "    print(\"BIDS:---------\")\n",
    "    bids = [SignedOrder.from_json(order_json[\"order\"]).update()\n",
    "            for order_json in orderbook[\"bids\"][\"records\"]]\n",
    "    print(\"\\n\".join([str(bid) for bid in bids]))\n",
    "    print(\"ASKS:---------\")\n",
    "    asks = [SignedOrder.from_json(order_json[\"order\"]).update()\n",
    "            for order_json in orderbook[\"asks\"][\"records\"]]\n",
    "    print(\"\\n\".join([str(bid) for bid in asks]))\n",
    "    return bids, asks\n",
    "    \n",
    "bids, asks = print_order_book(orderbook)"
   ]
  },
  {
   "cell_type": "code",
   "execution_count": null,
   "metadata": {
    "scrolled": false
   },
   "outputs": [],
   "source": [
    "for side in [\"BUY\", \"SELL\"]:\n",
    "    order = make_signed_order(\n",
    "        asset=\"LONG\",\n",
    "        qty=0.0001,\n",
    "        price=0.5,\n",
    "        side=side,\n",
    "    )\n",
    "    print(json.dumps(order.to_json(include_hash=True)))\n",
    "    res = pydex_client.post_signed_order(order)\n",
    "    print(res)"
   ]
  },
  {
   "cell_type": "code",
   "execution_count": null,
   "metadata": {},
   "outputs": [],
   "source": [
    "# from pydex_app.db_models import SignedOrder\n",
    "# list(SignedOrder.query.filter_by(\n",
    "#     maker_asset_data=VETH_ASSET_DATA))"
   ]
  },
  {
   "cell_type": "code",
   "execution_count": null,
   "metadata": {},
   "outputs": [],
   "source": [
    "from pydex_app.order_watcher_client import OrderWatcherClient\n",
    "\n",
    "owc = OrderWatcherClient(\n",
    "    on_msg=print,\n",
    "    on_error=print,\n",
    ")\n",
    "owc.run()"
   ]
  },
  {
   "cell_type": "code",
   "execution_count": null,
   "metadata": {},
   "outputs": [],
   "source": [
    "for order in bids + asks:\n",
    "    res = owc._rpc(method=\"ADD_ORDER\", params={\"signedOrder\": order.to_json()})\n",
    "    print(\">>>>\", res)"
   ]
  },
  {
   "cell_type": "code",
   "execution_count": null,
   "metadata": {},
   "outputs": [],
   "source": [
    "res = owc._rpc(method=\"GET_STATS\")\n",
    "res"
   ]
  },
  {
   "cell_type": "code",
   "execution_count": null,
   "metadata": {},
   "outputs": [],
   "source": [
    "for order in bids + asks:\n",
    "    res = owc._rpc(method=\"REMOVE_ORDER\", params={\"orderHash\": order.hash})\n",
    "    print(\">>>>\", res)"
   ]
  }
 ],
 "metadata": {
  "kernelspec": {
   "display_name": "Python 3",
   "language": "python",
   "name": "python3"
  },
  "language_info": {
   "codemirror_mode": {
    "name": "ipython",
    "version": 3
   },
   "file_extension": ".py",
   "mimetype": "text/x-python",
   "name": "python",
   "nbconvert_exporter": "python",
   "pygments_lexer": "ipython3",
   "version": "3.7.2"
  }
 },
 "nbformat": 4,
 "nbformat_minor": 2
}
